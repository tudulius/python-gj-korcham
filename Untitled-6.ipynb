{
 "cells": [
  {
   "cell_type": "code",
   "execution_count": 1,
   "metadata": {},
   "outputs": [
    {
     "name": "stdout",
     "output_type": "stream",
     "text": [
      "Collecting requests\n",
      "  Downloading requests-2.32.3-py3-none-any.whl.metadata (4.6 kB)\n",
      "Requirement already satisfied: trafilatura in c:\\users\\user\\appdata\\local\\programs\\python\\python313\\lib\\site-packages (2.0.0)\n",
      "Collecting pandas\n",
      "  Downloading pandas-2.2.3-cp313-cp313-win_amd64.whl.metadata (19 kB)\n",
      "Requirement already satisfied: charset-normalizer<4,>=2 in c:\\users\\user\\appdata\\local\\programs\\python\\python313\\lib\\site-packages (from requests) (3.4.1)\n",
      "Collecting idna<4,>=2.5 (from requests)\n",
      "  Downloading idna-3.10-py3-none-any.whl.metadata (10 kB)\n",
      "Requirement already satisfied: urllib3<3,>=1.21.1 in c:\\users\\user\\appdata\\local\\programs\\python\\python313\\lib\\site-packages (from requests) (2.3.0)\n",
      "Requirement already satisfied: certifi>=2017.4.17 in c:\\users\\user\\appdata\\local\\programs\\python\\python313\\lib\\site-packages (from requests) (2025.1.31)\n",
      "Requirement already satisfied: courlan>=1.3.2 in c:\\users\\user\\appdata\\local\\programs\\python\\python313\\lib\\site-packages (from trafilatura) (1.3.2)\n",
      "Requirement already satisfied: htmldate>=1.9.2 in c:\\users\\user\\appdata\\local\\programs\\python\\python313\\lib\\site-packages (from trafilatura) (1.9.3)\n",
      "Requirement already satisfied: justext>=3.0.1 in c:\\users\\user\\appdata\\local\\programs\\python\\python313\\lib\\site-packages (from trafilatura) (3.0.2)\n",
      "Requirement already satisfied: lxml>=5.3.0 in c:\\users\\user\\appdata\\local\\programs\\python\\python313\\lib\\site-packages (from trafilatura) (5.3.1)\n",
      "Collecting numpy>=1.26.0 (from pandas)\n",
      "  Downloading numpy-2.2.4-cp313-cp313-win_amd64.whl.metadata (60 kB)\n",
      "Requirement already satisfied: python-dateutil>=2.8.2 in c:\\users\\user\\appdata\\roaming\\python\\python313\\site-packages (from pandas) (2.9.0.post0)\n",
      "Requirement already satisfied: pytz>=2020.1 in c:\\users\\user\\appdata\\local\\programs\\python\\python313\\lib\\site-packages (from pandas) (2025.2)\n",
      "Requirement already satisfied: tzdata>=2022.7 in c:\\users\\user\\appdata\\local\\programs\\python\\python313\\lib\\site-packages (from pandas) (2025.2)\n",
      "Requirement already satisfied: babel>=2.16.0 in c:\\users\\user\\appdata\\local\\programs\\python\\python313\\lib\\site-packages (from courlan>=1.3.2->trafilatura) (2.17.0)\n",
      "Requirement already satisfied: tld>=0.13 in c:\\users\\user\\appdata\\local\\programs\\python\\python313\\lib\\site-packages (from courlan>=1.3.2->trafilatura) (0.13)\n",
      "Requirement already satisfied: dateparser>=1.1.2 in c:\\users\\user\\appdata\\local\\programs\\python\\python313\\lib\\site-packages (from htmldate>=1.9.2->trafilatura) (1.2.1)\n",
      "Requirement already satisfied: six>=1.5 in c:\\users\\user\\appdata\\roaming\\python\\python313\\site-packages (from python-dateutil>=2.8.2->pandas) (1.17.0)\n",
      "Requirement already satisfied: regex!=2019.02.19,!=2021.8.27,>=2015.06.24 in c:\\users\\user\\appdata\\local\\programs\\python\\python313\\lib\\site-packages (from dateparser>=1.1.2->htmldate>=1.9.2->trafilatura) (2024.11.6)\n",
      "Requirement already satisfied: tzlocal>=0.2 in c:\\users\\user\\appdata\\local\\programs\\python\\python313\\lib\\site-packages (from dateparser>=1.1.2->htmldate>=1.9.2->trafilatura) (5.3.1)\n",
      "Requirement already satisfied: lxml_html_clean in c:\\users\\user\\appdata\\local\\programs\\python\\python313\\lib\\site-packages (from lxml[html_clean]>=4.4.2->justext>=3.0.1->trafilatura) (0.4.1)\n",
      "Downloading requests-2.32.3-py3-none-any.whl (64 kB)\n",
      "Downloading pandas-2.2.3-cp313-cp313-win_amd64.whl (11.5 MB)\n",
      "   ---------------------------------------- 0.0/11.5 MB ? eta -:--:--\n",
      "   -------- ------------------------------- 2.4/11.5 MB 11.6 MB/s eta 0:00:01\n",
      "   -------------- ------------------------- 4.2/11.5 MB 10.4 MB/s eta 0:00:01\n",
      "   ---------------------- ----------------- 6.6/11.5 MB 10.9 MB/s eta 0:00:01\n",
      "   ------------------------------- -------- 8.9/11.5 MB 11.0 MB/s eta 0:00:01\n",
      "   ---------------------------------- ----- 10.0/11.5 MB 9.7 MB/s eta 0:00:01\n",
      "   ---------------------------------------  11.3/11.5 MB 9.1 MB/s eta 0:00:01\n",
      "   ---------------------------------------- 11.5/11.5 MB 8.9 MB/s eta 0:00:00\n",
      "Downloading idna-3.10-py3-none-any.whl (70 kB)\n",
      "Downloading numpy-2.2.4-cp313-cp313-win_amd64.whl (12.6 MB)\n",
      "   ---------------------------------------- 0.0/12.6 MB ? eta -:--:--\n",
      "   --- ------------------------------------ 1.0/12.6 MB 5.6 MB/s eta 0:00:03\n",
      "   ------- -------------------------------- 2.4/12.6 MB 5.6 MB/s eta 0:00:02\n",
      "   ------------ --------------------------- 3.9/12.6 MB 6.2 MB/s eta 0:00:02\n",
      "   ------------------ --------------------- 5.8/12.6 MB 7.0 MB/s eta 0:00:01\n",
      "   ----------------------- ---------------- 7.3/12.6 MB 7.0 MB/s eta 0:00:01\n",
      "   ------------------------- -------------- 8.1/12.6 MB 6.5 MB/s eta 0:00:01\n",
      "   ----------------------------- ---------- 9.2/12.6 MB 6.3 MB/s eta 0:00:01\n",
      "   ---------------------------------- ----- 10.7/12.6 MB 6.5 MB/s eta 0:00:01\n",
      "   ---------------------------------------  12.6/12.6 MB 6.8 MB/s eta 0:00:01\n",
      "   ---------------------------------------- 12.6/12.6 MB 6.7 MB/s eta 0:00:00\n",
      "Installing collected packages: numpy, idna, requests, pandas\n",
      "Successfully installed idna-3.10 numpy-2.2.4 pandas-2.2.3 requests-2.32.3\n",
      "Note: you may need to restart the kernel to use updated packages.\n"
     ]
    },
    {
     "name": "stderr",
     "output_type": "stream",
     "text": [
      "  WARNING: The scripts f2py.exe and numpy-config.exe are installed in 'c:\\Users\\user\\AppData\\Local\\Programs\\Python\\Python313\\Scripts' which is not on PATH.\n",
      "  Consider adding this directory to PATH or, if you prefer to suppress this warning, use --no-warn-script-location.\n",
      "\n",
      "[notice] A new release of pip is available: 24.3.1 -> 25.0.1\n",
      "[notice] To update, run: python.exe -m pip install --upgrade pip\n"
     ]
    }
   ],
   "source": [
    "pip install requests trafilatura pandas"
   ]
  },
  {
   "cell_type": "code",
   "execution_count": 2,
   "metadata": {},
   "outputs": [],
   "source": [
    "import trafilatura\n",
    "from trafilatura.settings import use_config\n",
    "\n",
    "# 크롤링할 URL 설정\n",
    "url = \"https://m.sports.naver.com/esports/article/015/0005057943?sid3=79b\""
   ]
  },
  {
   "cell_type": "code",
   "execution_count": 3,
   "metadata": {},
   "outputs": [],
   "source": [
    "# 웹 페이지 다운로드\n",
    "downloaded = trafilatura.fetch_url(url)"
   ]
  },
  {
   "cell_type": "code",
   "execution_count": 4,
   "metadata": {},
   "outputs": [],
   "source": [
    "# 본문 및 메타데이터 추출\n",
    "result = trafilatura.extract(downloaded, output_format=\"json\", include_comments=False, include_links=False, with_metadata=True)"
   ]
  },
  {
   "cell_type": "code",
   "execution_count": 6,
   "metadata": {},
   "outputs": [
    {
     "name": "stdout",
     "output_type": "stream",
     "text": [
      "result 값이 비어있습니다\n"
     ]
    }
   ],
   "source": [
    "# JSON 문자열을 파이썬 딕셔너리로 변환\n",
    "import json\n",
    "\n",
    "# result 값이 제대로 설정되었는지 확인\n",
    "if result:\n",
    "    try:\n",
    "        parsed_result = json.loads(result)\n",
    "    except json.JSONDecodeError as e:\n",
    "        print(f\"JSON 파싱 에러: {e}\")\n",
    "        parsed_result = {}\n",
    "else:\n",
    "    print(\"result 값이 비어있습니다\")\n",
    "    parsed_result = {}"
   ]
  },
  {
   "cell_type": "code",
   "execution_count": null,
   "metadata": {},
   "outputs": [],
   "source": []
  }
 ],
 "metadata": {
  "kernelspec": {
   "display_name": "Python 3",
   "language": "python",
   "name": "python3"
  },
  "language_info": {
   "codemirror_mode": {
    "name": "ipython",
    "version": 3
   },
   "file_extension": ".py",
   "mimetype": "text/x-python",
   "name": "python",
   "nbconvert_exporter": "python",
   "pygments_lexer": "ipython3",
   "version": "3.13.2"
  }
 },
 "nbformat": 4,
 "nbformat_minor": 2
}
