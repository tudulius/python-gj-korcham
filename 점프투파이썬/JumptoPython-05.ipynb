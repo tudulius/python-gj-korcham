{
 "cells": [
  {
   "cell_type": "markdown",
   "metadata": {},
   "source": [
    "## 05 파이썬 날개 달기"
   ]
  },
  {
   "cell_type": "markdown",
   "metadata": {},
   "source": [
    "### 05-1 클래스"
   ]
  },
  {
   "cell_type": "code",
   "execution_count": null,
   "metadata": {},
   "outputs": [],
   "source": [
    "# 클래스는 왜 필요한가?"
   ]
  },
  {
   "cell_type": "code",
   "execution_count": null,
   "metadata": {},
   "outputs": [
    {
     "name": "stdout",
     "output_type": "stream",
     "text": [
      "3\n",
      "7\n"
     ]
    }
   ],
   "source": [
    "# 계산기 프로그램을 만들며 클래스 알아보기\n",
    "# calculator.py\n",
    "\n",
    "result = 0\n",
    "\n",
    "def add(num):\n",
    "    global result\n",
    "    result += num\n",
    "    return result\n",
    "\n",
    "print(add(3))\n",
    "print(add(4))\n"
   ]
  },
  {
   "cell_type": "code",
   "execution_count": 9,
   "metadata": {},
   "outputs": [
    {
     "name": "stdout",
     "output_type": "stream",
     "text": [
      "3\n",
      "7\n",
      "3\n",
      "10\n"
     ]
    }
   ],
   "source": [
    "# calculator2.py\n",
    "\n",
    "result1 = 0\n",
    "result2 = 0\n",
    "\n",
    "def add1(num):\n",
    "    global result1\n",
    "    result1 += num\n",
    "    return result1\n",
    "\n",
    "def add2(num):\n",
    "    global result2\n",
    "    result2 += num\n",
    "    return result2\n",
    "\n",
    "print(add1(3))\n",
    "print(add1(4))\n",
    "print(add2(3))\n",
    "print(add2(7))"
   ]
  },
  {
   "cell_type": "code",
   "execution_count": 10,
   "metadata": {},
   "outputs": [
    {
     "name": "stdout",
     "output_type": "stream",
     "text": [
      "3\n",
      "7\n",
      "3\n",
      "10\n"
     ]
    }
   ],
   "source": [
    "# calculator3.py\n",
    "\n",
    "class Calculator:\n",
    "    def __init__(self):\n",
    "        self.result = 0\n",
    "\n",
    "    def add(self, num):\n",
    "        self.result += num\n",
    "        return self.result\n",
    "\n",
    "cal1 = Calculator()\n",
    "cal2 = Calculator()\n",
    "\n",
    "print(cal1.add(3))\n",
    "print(cal1.add(4))\n",
    "print(cal2.add(3))\n",
    "print(cal2.add(7))"
   ]
  },
  {
   "cell_type": "code",
   "execution_count": null,
   "metadata": {},
   "outputs": [],
   "source": [
    "# 클래스와 객체"
   ]
  },
  {
   "cell_type": "code",
   "execution_count": 16,
   "metadata": {},
   "outputs": [],
   "source": [
    "class Cookie:\n",
    "    pass\n",
    "\n",
    "a = Cookie()\n",
    "b = Cookie()"
   ]
  },
  {
   "cell_type": "code",
   "execution_count": null,
   "metadata": {},
   "outputs": [],
   "source": [
    "# 사칙 연산 클래스 만들기"
   ]
  },
  {
   "cell_type": "code",
   "execution_count": null,
   "metadata": {},
   "outputs": [],
   "source": [
    "# 클래스를 어떻게 만들지 먼저 구상하기"
   ]
  },
  {
   "cell_type": "code",
   "execution_count": null,
   "metadata": {},
   "outputs": [],
   "source": [
    "# 클래스 구조 만들기"
   ]
  },
  {
   "cell_type": "code",
   "execution_count": 17,
   "metadata": {},
   "outputs": [
    {
     "data": {
      "text/plain": [
       "__main__.FourCal"
      ]
     },
     "execution_count": 17,
     "metadata": {},
     "output_type": "execute_result"
    }
   ],
   "source": [
    "class FourCal:\n",
    "    pass\n",
    "\n",
    "a = FourCal()\n",
    "type(a)"
   ]
  },
  {
   "cell_type": "code",
   "execution_count": null,
   "metadata": {},
   "outputs": [],
   "source": [
    "# 객체에 연살할 숫자 지정하기"
   ]
  },
  {
   "cell_type": "code",
   "execution_count": null,
   "metadata": {},
   "outputs": [],
   "source": [
    "class FourCal: # 계산기를 정의하고\n",
    "    def setdata(self, first, second): # 계산할 매개변수를 정의하고\n",
    "        self.first = first\n",
    "        self.second = second\n",
    "\n",
    "a = FourCal() # 계산해라라고\n",
    "a.setdata(4, 2) # 계산 부탁해요"
   ]
  },
  {
   "cell_type": "code",
   "execution_count": null,
   "metadata": {},
   "outputs": [
    {
     "data": {
      "text/plain": [
       "'Lalala~'"
      ]
     },
     "execution_count": 21,
     "metadata": {},
     "output_type": "execute_result"
    }
   ],
   "source": [
    "class Singer: # 가수를 정의하고\n",
    "    def sing(self): # 노래하기 위한 메서드를 정의하고\n",
    "        return \"Lalala~\" # 이렇게 노래해랏\n",
    "\n",
    "taeji = Singer() # 가수 태지를 불럿!\n",
    "taeji.sing() # 태지 노래 한곳 부탁해요\n"
   ]
  },
  {
   "cell_type": "code",
   "execution_count": null,
   "metadata": {},
   "outputs": [],
   "source": [
    "# 입력값이 몇 개가 될지 모를 때는 어떻게 해야 할까?"
   ]
  },
  {
   "cell_type": "code",
   "execution_count": null,
   "metadata": {},
   "outputs": [],
   "source": [
    "# 키워드 매개변수, kwargs"
   ]
  },
  {
   "cell_type": "code",
   "execution_count": null,
   "metadata": {},
   "outputs": [],
   "source": [
    "# 함수의 리턴값은 언제나 하나이다"
   ]
  },
  {
   "cell_type": "code",
   "execution_count": null,
   "metadata": {},
   "outputs": [],
   "source": [
    "# 매개변수에 초깃값 미리 설정하기"
   ]
  },
  {
   "cell_type": "code",
   "execution_count": null,
   "metadata": {},
   "outputs": [],
   "source": [
    "# 함수 안에서 선언한 변수의 효력 범위"
   ]
  },
  {
   "cell_type": "code",
   "execution_count": null,
   "metadata": {},
   "outputs": [],
   "source": [
    "# 함수 안에서 함수 밖의 변수를 변경하는 방법"
   ]
  },
  {
   "cell_type": "markdown",
   "metadata": {},
   "source": [
    "### 04-2 사용자 입출력"
   ]
  },
  {
   "cell_type": "code",
   "execution_count": null,
   "metadata": {},
   "outputs": [],
   "source": [
    "# 사용자 입력 활용하기"
   ]
  },
  {
   "cell_type": "code",
   "execution_count": null,
   "metadata": {},
   "outputs": [],
   "source": [
    "# print 자세히 알기"
   ]
  },
  {
   "cell_type": "markdown",
   "metadata": {},
   "source": [
    "### 04-3 파일 읽고 쓰기"
   ]
  },
  {
   "cell_type": "code",
   "execution_count": null,
   "metadata": {},
   "outputs": [],
   "source": [
    "# 파일 생성하기"
   ]
  },
  {
   "cell_type": "code",
   "execution_count": null,
   "metadata": {},
   "outputs": [],
   "source": [
    "# 파일을 쓰기 모드로 열어 내용 쓰기"
   ]
  },
  {
   "cell_type": "code",
   "execution_count": null,
   "metadata": {},
   "outputs": [],
   "source": [
    "# 파일을 읽는 여러 가지 방법"
   ]
  },
  {
   "cell_type": "code",
   "execution_count": null,
   "metadata": {},
   "outputs": [],
   "source": [
    "# 파일에 새로운 내용 추가하기"
   ]
  },
  {
   "cell_type": "code",
   "execution_count": null,
   "metadata": {},
   "outputs": [],
   "source": [
    "# with 문과 함께 사용하기"
   ]
  },
  {
   "cell_type": "markdown",
   "metadata": {},
   "source": [
    "### 04-4 프로그램의 입출력"
   ]
  },
  {
   "cell_type": "code",
   "execution_count": null,
   "metadata": {},
   "outputs": [],
   "source": [
    "# sys 모듈 사용하기"
   ]
  },
  {
   "cell_type": "markdown",
   "metadata": {},
   "source": [
    "* 되새김 문제"
   ]
  },
  {
   "cell_type": "markdown",
   "metadata": {},
   "source": [
    "Q1 홀수, 짝수 판별하기\n",
    "주어진 자연수가 홀수인지, 짝수인지 판별해 주는 함수 is_odd를 작성해 보자. is_odd 함수는 홀수이면 True, 짝수이면 False 를 리턴해야 한다.\n",
    "```\n",
    "def is_odd(number):\n",
    "    if \n",
    "        return True\n",
    "    else:\n",
    "        return False\n",
    "```"
   ]
  },
  {
   "cell_type": "markdown",
   "metadata": {},
   "source": [
    "Q2 모든 입력의 평균값 구하기\n",
    "입력으로 들어오는 모든 수의 평균값을 계산해 주는 함수를 "
   ]
  }
 ],
 "metadata": {
  "kernelspec": {
   "display_name": "Python 3",
   "language": "python",
   "name": "python3"
  },
  "language_info": {
   "codemirror_mode": {
    "name": "ipython",
    "version": 3
   },
   "file_extension": ".py",
   "mimetype": "text/x-python",
   "name": "python",
   "nbconvert_exporter": "python",
   "pygments_lexer": "ipython3",
   "version": "3.13.2"
  }
 },
 "nbformat": 4,
 "nbformat_minor": 2
}
