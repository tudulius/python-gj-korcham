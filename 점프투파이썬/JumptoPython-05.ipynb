{
 "cells": [
  {
   "cell_type": "markdown",
   "metadata": {},
   "source": [
    "## 05 파이썬 날개 달기"
   ]
  },
  {
   "cell_type": "markdown",
   "metadata": {},
   "source": [
    "### 05-1 클래스"
   ]
  },
  {
   "cell_type": "code",
   "execution_count": null,
   "metadata": {},
   "outputs": [],
   "source": [
    "# 클래스는 왜 필요한가?"
   ]
  },
  {
   "cell_type": "code",
   "execution_count": null,
   "metadata": {},
   "outputs": [
    {
     "name": "stdout",
     "output_type": "stream",
     "text": [
      "3\n",
      "7\n"
     ]
    }
   ],
   "source": [
    "# 계산기 프로그램을 만들며 클래스 알아보기\n",
    "# calculator.py\n",
    "\n",
    "result = 0\n",
    "\n",
    "def add(num):\n",
    "    global result\n",
    "    result += num\n",
    "    return result\n",
    "\n",
    "print(add(3))\n",
    "print(add(4))\n"
   ]
  },
  {
   "cell_type": "code",
   "execution_count": 9,
   "metadata": {},
   "outputs": [
    {
     "name": "stdout",
     "output_type": "stream",
     "text": [
      "3\n",
      "7\n",
      "3\n",
      "10\n"
     ]
    }
   ],
   "source": [
    "# calculator2.py\n",
    "\n",
    "result1 = 0\n",
    "result2 = 0\n",
    "\n",
    "def add1(num):\n",
    "    global result1\n",
    "    result1 += num\n",
    "    return result1\n",
    "\n",
    "def add2(num):\n",
    "    global result2\n",
    "    result2 += num\n",
    "    return result2\n",
    "\n",
    "print(add1(3))\n",
    "print(add1(4))\n",
    "print(add2(3))\n",
    "print(add2(7))"
   ]
  },
  {
   "cell_type": "code",
   "execution_count": 10,
   "metadata": {},
   "outputs": [
    {
     "name": "stdout",
     "output_type": "stream",
     "text": [
      "3\n",
      "7\n",
      "3\n",
      "10\n"
     ]
    }
   ],
   "source": [
    "# calculator3.py\n",
    "\n",
    "class Calculator:\n",
    "    def __init__(self):\n",
    "        self.result = 0\n",
    "\n",
    "    def add(self, num):\n",
    "        self.result += num\n",
    "        return self.result\n",
    "\n",
    "cal1 = Calculator()\n",
    "cal2 = Calculator()\n",
    "\n",
    "print(cal1.add(3))\n",
    "print(cal1.add(4))\n",
    "print(cal2.add(3))\n",
    "print(cal2.add(7))"
   ]
  },
  {
   "cell_type": "code",
   "execution_count": null,
   "metadata": {},
   "outputs": [],
   "source": [
    "# 클래스와 객체"
   ]
  },
  {
   "cell_type": "code",
   "execution_count": 16,
   "metadata": {},
   "outputs": [],
   "source": [
    "class Cookie:\n",
    "    pass\n",
    "\n",
    "a = Cookie()\n",
    "b = Cookie()"
   ]
  },
  {
   "cell_type": "code",
   "execution_count": null,
   "metadata": {},
   "outputs": [],
   "source": [
    "# 사칙 연산 클래스 만들기"
   ]
  },
  {
   "cell_type": "code",
   "execution_count": null,
   "metadata": {},
   "outputs": [],
   "source": [
    "# 클래스를 어떻게 만들지 먼저 구상하기"
   ]
  },
  {
   "cell_type": "code",
   "execution_count": null,
   "metadata": {},
   "outputs": [],
   "source": [
    "# 클래스 구조 만들기"
   ]
  },
  {
   "cell_type": "code",
   "execution_count": 17,
   "metadata": {},
   "outputs": [
    {
     "data": {
      "text/plain": [
       "__main__.FourCal"
      ]
     },
     "execution_count": 17,
     "metadata": {},
     "output_type": "execute_result"
    }
   ],
   "source": [
    "class FourCal:\n",
    "    pass\n",
    "\n",
    "a = FourCal()\n",
    "type(a)"
   ]
  },
  {
   "cell_type": "code",
   "execution_count": null,
   "metadata": {},
   "outputs": [],
   "source": [
    "# 객체에 연살할 숫자 지정하기"
   ]
  },
  {
   "cell_type": "code",
   "execution_count": null,
   "metadata": {},
   "outputs": [],
   "source": [
    "class FourCal: # 계산기를 정의하고\n",
    "    def setdata(self, first, second): # 계산할 매개변수를 정의하고\n",
    "        self.first = first\n",
    "        self.second = second\n",
    "\n",
    "a = FourCal() # 계산해라라고\n",
    "a.setdata(4, 2) # 계산 부탁해요"
   ]
  },
  {
   "cell_type": "code",
   "execution_count": null,
   "metadata": {},
   "outputs": [
    {
     "data": {
      "text/plain": [
       "'Lalala~'"
      ]
     },
     "execution_count": 21,
     "metadata": {},
     "output_type": "execute_result"
    }
   ],
   "source": [
    "class Singer: # 가수를 정의하고\n",
    "    def sing(self): # 노래하기 위한 메서드를 정의하고\n",
    "        return \"Lalala~\" # 이렇게 노래해랏\n",
    "\n",
    "taeji = Singer() # 가수 태지를 불럿!\n",
    "taeji.sing() # 태지 노래 한곳 부탁해요\n"
   ]
  },
  {
   "cell_type": "code",
   "execution_count": null,
   "metadata": {},
   "outputs": [],
   "source": [
    "# 입력값이 몇 개가 될지 모를 때는 어떻게 해야 할까?"
   ]
  },
  {
   "cell_type": "code",
   "execution_count": null,
   "metadata": {},
   "outputs": [],
   "source": [
    "# 키워드 매개변수, kwargs"
   ]
  },
  {
   "cell_type": "code",
   "execution_count": null,
   "metadata": {},
   "outputs": [],
   "source": [
    "# 함수의 리턴값은 언제나 하나이다"
   ]
  },
  {
   "cell_type": "code",
   "execution_count": null,
   "metadata": {},
   "outputs": [],
   "source": [
    "# 매개변수에 초깃값 미리 설정하기"
   ]
  },
  {
   "cell_type": "code",
   "execution_count": null,
   "metadata": {},
   "outputs": [],
   "source": [
    "# 함수 안에서 선언한 변수의 효력 범위"
   ]
  },
  {
   "cell_type": "code",
   "execution_count": null,
   "metadata": {},
   "outputs": [],
   "source": [
    "# 함수 안에서 함수 밖의 변수를 변경하는 방법"
   ]
  },
  {
   "cell_type": "markdown",
   "metadata": {},
   "source": [
    "### 04-2 사용자 입출력"
   ]
  },
  {
   "cell_type": "code",
   "execution_count": null,
   "metadata": {},
   "outputs": [],
   "source": [
    "# 사용자 입력 활용하기"
   ]
  },
  {
   "cell_type": "code",
   "execution_count": null,
   "metadata": {},
   "outputs": [],
   "source": [
    "# print 자세히 알기"
   ]
  },
  {
   "cell_type": "markdown",
   "metadata": {},
   "source": [
    "### 04-3 파일 읽고 쓰기"
   ]
  },
  {
   "cell_type": "code",
   "execution_count": null,
   "metadata": {},
   "outputs": [],
   "source": [
    "# 파일 생성하기"
   ]
  },
  {
   "cell_type": "code",
   "execution_count": null,
   "metadata": {},
   "outputs": [],
   "source": [
    "# 파일을 쓰기 모드로 열어 내용 쓰기"
   ]
  },
  {
   "cell_type": "code",
   "execution_count": null,
   "metadata": {},
   "outputs": [],
   "source": [
    "# 파일을 읽는 여러 가지 방법"
   ]
  },
  {
   "cell_type": "code",
   "execution_count": null,
   "metadata": {},
   "outputs": [],
   "source": [
    "# 파일에 새로운 내용 추가하기"
   ]
  },
  {
   "cell_type": "code",
   "execution_count": null,
   "metadata": {},
   "outputs": [],
   "source": [
    "# with 문과 함께 사용하기"
   ]
  },
  {
   "cell_type": "markdown",
   "metadata": {},
   "source": [
    "### 04-4 프로그램의 입출력"
   ]
  },
  {
   "cell_type": "code",
   "execution_count": null,
   "metadata": {},
   "outputs": [],
   "source": [
    "# sys 모듈 사용하기"
   ]
  },
  {
   "cell_type": "markdown",
   "metadata": {},
   "source": [
    "* 되새김 문제"
   ]
  },
  {
   "cell_type": "markdown",
   "metadata": {},
   "source": [
    "Q1 홀수, 짝수 판별하기\n",
    "주어진 자연수가 홀수인지, 짝수인지 판별해 주는 함수 is_odd를 작성해 보자. is_odd 함수는 홀수이면 True, 짝수이면 False 를 리턴해야 한다.\n",
    "```\n",
    "def is_odd(number):\n",
    "    if \n",
    "        return True\n",
    "    else:\n",
    "        return False\n",
    "```"
   ]
  },
  {
   "cell_type": "markdown",
   "metadata": {},
   "source": [
    "Q2 모든 입력의 평균값 구하기\n",
    "입력으로 들어오는 모든 수의 평균값을 계산해 주는 함수를 "
   ]
  },
  {
   "cell_type": "markdown",
   "metadata": {},
   "source": [
    "## 05-7 외부 라이브러리"
   ]
  },
  {
   "cell_type": "code",
   "execution_count": null,
   "metadata": {},
   "outputs": [],
   "source": [
    "# pip"
   ]
  },
  {
   "cell_type": "code",
   "execution_count": null,
   "metadata": {},
   "outputs": [],
   "source": [
    "# pip\n",
    "# pip install\n",
    "# pip uninstall\n",
    "# 특정 버전으로 설치하기 pip install 패키지명==1,0,4\n",
    "# 최신 버전으로 업그레이드 하기 pip install 패키지명\n",
    "# 설치된 패키지 확인하기 pip list"
   ]
  },
  {
   "cell_type": "code",
   "execution_count": null,
   "metadata": {},
   "outputs": [],
   "source": [
    "# Faker"
   ]
  },
  {
   "cell_type": "code",
   "execution_count": null,
   "metadata": {},
   "outputs": [
    {
     "data": {
      "text/plain": [
       "'Maria Jones'"
      ]
     },
     "execution_count": 1,
     "metadata": {},
     "output_type": "execute_result"
    }
   ],
   "source": [
    "# Faker 사용해 보기\n",
    "from faker import Faker\n",
    "fake = Faker()\n",
    "fake.name()"
   ]
  },
  {
   "cell_type": "code",
   "execution_count": 2,
   "metadata": {},
   "outputs": [
    {
     "data": {
      "text/plain": [
       "'한준서'"
      ]
     },
     "execution_count": 2,
     "metadata": {},
     "output_type": "execute_result"
    }
   ],
   "source": [
    "# Faker 활용하기기\n",
    "fake = Faker('ko-kr')\n",
    "fake.name()"
   ]
  },
  {
   "cell_type": "code",
   "execution_count": 3,
   "metadata": {},
   "outputs": [
    {
     "data": {
      "text/plain": [
       "'전라남도 구리시 서초중앙로 172'"
      ]
     },
     "execution_count": 3,
     "metadata": {},
     "output_type": "execute_result"
    }
   ],
   "source": [
    "# Faker 활용하기기\n",
    "fake.address()"
   ]
  },
  {
   "cell_type": "code",
   "execution_count": 9,
   "metadata": {},
   "outputs": [
    {
     "data": {
      "text/plain": [
       "[('박민석', '서울특별시 동작구 삼성가 705 (미영박이동)', '16344', '곽김김'),\n",
       " ('김동현', '광주광역시 관악구 테헤란0가 765-34', '09058', '주식회사 이전임'),\n",
       " ('이지아', '부산광역시 강북구 논현거리 829-79', '03047', '박박'),\n",
       " ('김영숙', '충청남도 안성시 역삼2거리 88-24 (병철이김마을)', '84568', '주식회사 이'),\n",
       " ('김성현', '울산광역시 성북구 오금길 286 (서현최리)', '26706', '오김'),\n",
       " ('김준영', '충청남도 양양군 선릉로 227-1', '78314', '박이최'),\n",
       " ('신승현', '세종특별자치시 금천구 개포가 973', '93977', '유한회사 이김김'),\n",
       " ('오순옥', '강원도 속초시 압구정거리 760', '74444', '주식회사 최강한'),\n",
       " ('이영희', '경기도 용인시 수지구 석촌호수가 253-41 (상철한읍)', '84449', '(주) 정최김'),\n",
       " ('이수진', '전라북도 영동군 삼성길 596 (도윤박한동)', '37617', '정박'),\n",
       " ('이종수', '서울특별시 노원구 반포대365거리 210', '29645', '이김이'),\n",
       " ('이명숙', '광주광역시 강동구 서초대거리 지하820', '69957', '김하우'),\n",
       " ('이지아', '경상남도 삼척시 강남대272길 지하712 (서연김리)', '36315', '이한이'),\n",
       " ('김영진', '충청남도 아산시 봉은사972로 지하440', '35300', '박이'),\n",
       " ('안민석', '제주특별자치도 연천군 양재천3로 498-37 (정순이동)', '76465', '주식회사 심오박'),\n",
       " ('강윤서', '제주특별자치도 충주시 역삼30로 479', '09788', '권이김'),\n",
       " ('박도윤', '경기도 부천시 오정구 개포가 269-91', '82824', '유한회사 황'),\n",
       " ('이서영', '전라남도 성남시 도산대로 382-59 (아름장동)', '46501', '(주) 송'),\n",
       " ('이주원', '부산광역시 양천구 압구정거리 586-39', '24047', '김안'),\n",
       " ('신지혜', '세종특별자치시 마포구 도산대거리 670-47', '46201', '이최오'),\n",
       " ('백지민', '경상북도 구리시 논현로 393', '42264', '박이'),\n",
       " ('이지은', '전라북도 횡성군 봉은사로 332-14', '18225', '박이'),\n",
       " ('박예준', '광주광역시 종로구 반포대로 856-35', '54377', '유한회사 강'),\n",
       " ('장윤서', '세종특별자치시 도봉구 잠실길 458-23', '07899', '한민'),\n",
       " ('황성현', '광주광역시 중구 도산대2로 939 (서현김권동)', '29816', '(주) 조'),\n",
       " ('구현주', '세종특별자치시 광진구 서초중앙14로 532', '80502', '홍서'),\n",
       " ('박명자', '세종특별자치시 강북구 논현8길 714 (민수박박면)', '50729', '김심'),\n",
       " ('오서영', '대구광역시 동대문구 봉은사17거리 204', '49144', '이김최'),\n",
       " ('장경희', '강원도 남양주시 양재천거리 521-23 (성수김박동)', '12809', '윤이'),\n",
       " ('전순옥', '경상북도 태백시 도산대가 835', '48916', '주식회사 이')]"
      ]
     },
     "execution_count": 9,
     "metadata": {},
     "output_type": "execute_result"
    }
   ],
   "source": [
    "# Faker 활용하기기\n",
    "test_data = [(fake.name(), fake.address(), fake.postcode(), fake.company()) for i in range(30)]\n",
    "\n",
    "test_data"
   ]
  },
  {
   "cell_type": "code",
   "execution_count": 10,
   "metadata": {},
   "outputs": [
    {
     "name": "stdout",
     "output_type": "stream",
     "text": [
      "[('박민석', '서울특별시 동작구 삼성가 705 (미영박이동)', '16344', '곽김김'), ('김동현', '광주광역시 관악구 테헤란0가 765-34', '09058', '주식회사 이전임'), ('이지아', '부산광역시 강북구 논현거리 829-79', '03047', '박박'), ('김영숙', '충청남도 안성시 역삼2거리 88-24 (병철이김마을)', '84568', '주식회사 이'), ('김성현', '울산광역시 성북구 오금길 286 (서현최리)', '26706', '오김'), ('김준영', '충청남도 양양군 선릉로 227-1', '78314', '박이최'), ('신승현', '세종특별자치시 금천구 개포가 973', '93977', '유한회사 이김김'), ('오순옥', '강원도 속초시 압구정거리 760', '74444', '주식회사 최강한'), ('이영희', '경기도 용인시 수지구 석촌호수가 253-41 (상철한읍)', '84449', '(주) 정최김'), ('이수진', '전라북도 영동군 삼성길 596 (도윤박한동)', '37617', '정박'), ('이종수', '서울특별시 노원구 반포대365거리 210', '29645', '이김이'), ('이명숙', '광주광역시 강동구 서초대거리 지하820', '69957', '김하우'), ('이지아', '경상남도 삼척시 강남대272길 지하712 (서연김리)', '36315', '이한이'), ('김영진', '충청남도 아산시 봉은사972로 지하440', '35300', '박이'), ('안민석', '제주특별자치도 연천군 양재천3로 498-37 (정순이동)', '76465', '주식회사 심오박'), ('강윤서', '제주특별자치도 충주시 역삼30로 479', '09788', '권이김'), ('박도윤', '경기도 부천시 오정구 개포가 269-91', '82824', '유한회사 황'), ('이서영', '전라남도 성남시 도산대로 382-59 (아름장동)', '46501', '(주) 송'), ('이주원', '부산광역시 양천구 압구정거리 586-39', '24047', '김안'), ('신지혜', '세종특별자치시 마포구 도산대거리 670-47', '46201', '이최오'), ('백지민', '경상북도 구리시 논현로 393', '42264', '박이'), ('이지은', '전라북도 횡성군 봉은사로 332-14', '18225', '박이'), ('박예준', '광주광역시 종로구 반포대로 856-35', '54377', '유한회사 강'), ('장윤서', '세종특별자치시 도봉구 잠실길 458-23', '07899', '한민'), ('황성현', '광주광역시 중구 도산대2로 939 (서현김권동)', '29816', '(주) 조'), ('구현주', '세종특별자치시 광진구 서초중앙14로 532', '80502', '홍서'), ('박명자', '세종특별자치시 강북구 논현8길 714 (민수박박면)', '50729', '김심'), ('오서영', '대구광역시 동대문구 봉은사17거리 204', '49144', '이김최'), ('장경희', '강원도 남양주시 양재천거리 521-23 (성수김박동)', '12809', '윤이'), ('전순옥', '경상북도 태백시 도산대가 835', '48916', '주식회사 이')]\n"
     ]
    }
   ],
   "source": [
    "print(test_data)"
   ]
  },
  {
   "cell_type": "code",
   "execution_count": null,
   "metadata": {},
   "outputs": [],
   "source": [
    "# sympy"
   ]
  },
  {
   "cell_type": "code",
   "execution_count": null,
   "metadata": {},
   "outputs": [],
   "source": [
    "# pip install sympy"
   ]
  },
  {
   "cell_type": "code",
   "execution_count": null,
   "metadata": {},
   "outputs": [],
   "source": [
    "# sympy 사용해 보기기"
   ]
  }
 ],
 "metadata": {
  "kernelspec": {
   "display_name": "Python 3",
   "language": "python",
   "name": "python3"
  },
  "language_info": {
   "codemirror_mode": {
    "name": "ipython",
    "version": 3
   },
   "file_extension": ".py",
   "mimetype": "text/x-python",
   "name": "python",
   "nbconvert_exporter": "python",
   "pygments_lexer": "ipython3",
   "version": "3.13.2"
  }
 },
 "nbformat": 4,
 "nbformat_minor": 2
}
